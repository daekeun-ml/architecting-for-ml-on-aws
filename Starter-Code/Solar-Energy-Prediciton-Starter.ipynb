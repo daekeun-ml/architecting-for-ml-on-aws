{
 "cells": [
  {
   "cell_type": "markdown",
   "metadata": {},
   "source": [
    "# Solar Energy Prediction Starter Code\n",
    "\n",
    "Dataset Description: https://www.kaggle.com/c/ams-2014-solar-energy-prediction-contest#description"
   ]
  },
  {
   "cell_type": "markdown",
   "metadata": {},
   "source": [
    "## Before Getting Started\n",
    "---\n",
    "\n",
    "### NetCDF (Network Common Data Form)\n",
    "- UCAR(University Corporation for Atmospheric Research) 에서 주관하는 Unidata 프로젝트에 의해 개발된 포맷으로 기상/해양/대기 분야에서 널리 쓰이는 데이터 포맷\n",
    "- 2019년 4.7.0 버전부터 S3 읽기 기능 추가\n",
    "- References\n",
    "    - 위키피디아: https://en.wikipedia.org/wiki/NetCDF\n",
    "    - NetCDF Example: http://schubert.atmos.colostate.edu/~cslocum/netcdf_example.html\n",
    "    \n",
    "### Data Description\n",
    "- 훈련셋: 1994년 1월 1일부터 2007년 12월 31일까지의 피쳐 및 정답\n",
    "- 테스트셋: 2008년 1월 1일부터 2012년 11월 30일까지의 피쳐\n",
    "\n",
    "#### Ground Truth\n",
    "- CSV 포맷\n",
    "- **solar_training_199401_200712.csv**: 1994년 1월 1일부터 운영되고 있는 오클라호마 Mesonet 98곳 사이트에 들어오는 총 태양광 에너지로 5분마다 일사계로 직접 측정 (일출부터 23:55UTC까지 데이터를 모두 합산)\n",
    "    - Dimension: $5113 \\times 99$ (5113일은 1994년 1월 1일부터 2007년 12월 31일까의 총 일수)\n",
    "    - 1번째 컬럼은 datetime이며, 나머지 컬럼은 98곳 사이트에 대한 태양광 에너지 정답\n",
    "    \n",
    "#### Features\n",
    "- NetCDF4 포맷\n",
    "- 훈련 파일 및 테스트 파일들은 각각 15개로 구성되어 있으며, 이름 규칙은 아래와 같습니다.\n",
    "    - Training Dataset: **[Variable]_latlon_subset_19940101_20071231.nc**\n",
    "    - Test Dataset: **[Variable]_latlon_subset_20080101_20121130.nc**\n",
    "\n",
    "- 15개 피쳐에 대한 설명은 아래와 같습니다.\n",
    "\n",
    "\n",
    "|Variable|\t설명\t| 단위\n",
    "|---:|---:|---:|\n",
    "|apcp_sfc|\t3시간 동안 표면에 축적된 강수량|\tkg m-2\n",
    "|dlwrf_sfc|\t표면에서 하향 장파 복사(long-wave radiative flux) 평균|\tW m-2\n",
    "|dswrf_sfc|\t표면에서 하향 단파 복사(short-wave radiative flux) 평균|\tW m-2\n",
    "|pres_msl|\t평균 해수면에서의 기압|\tPa\n",
    "|pwat_eatm|\t전체 대기 깊이에 걸쳐 침전 가능한 물|\tkg m-2\n",
    "|spfh_2m|\t지상 2m의 특정 습도|\tkg kg-1\n",
    "|tcdc_eatm|\t대기의 총 클라우드 커버|\t %\n",
    "|tcolc_eatm|\t전체 대기에 대한 총 컬럼 통합 응축수|\tkg m-2\n",
    "|tmax_2m|\t지상 2미터에서 지난 3시간 동안의 최대 온도|\t K\n",
    "|tmin_2m|\t지상 2미터에서 지난 3시간 동안의 최저 온도|\t K\n",
    "|tmp_2m|\t지상 2미터에서의 현재 온도|\t K\n",
    "|tmp_sfc|\t 표면의 현재 온도|\t K\n",
    "|ulwrf_sfc|\t 표면에서의 상향 장파 복사|\t W m-2\n",
    "|ulwrf_tatm| 대기에서의 상향 장파 복사|\t W m-2\n",
    "|uswrf_sfc|\t 표면에서의 상향 단파 복사|\t W m-2  \n",
    "\n",
    "- Dimension: $(5113 \\times 11 \\times 5 \\times 9 \\times 16)$\n",
    "    - 5113: timestamp(5,113일)\n",
    "    - 11: 앙상블 피쳐(11종류의 기상 예보 피쳐)\n",
    "    - 5: 측정 시간 단위로 12,15,18,21,24시에 총 5번의 예측을 수행\n",
    "    - 9: GEFS 포인트의 위도\n",
    "    - 16: GEFS 포인트의  경도\n",
    "      \n",
    "#### Stations\n",
    "- CSV 포맷\n",
    "- **station_info.csv**\n",
    "- 98개 Mesonet station의 위도, 경도 및 고도(미터 단위)\n",
    "    - stid: station id\n",
    "    - nlat: 위도\n",
    "    - elon: 경도\n",
    "    - elev: 고도\n",
    "- Dimension: $(98 \\times 4)$\n",
    "\n",
    "#### GEFS 정보\n",
    "- NetCDF4 포맷\n",
    "- 훈련에 직접적으로 사용하지 않고 검증용으로 사용하는 GEFS 그리드 포인트 정보입니다. \n",
    "- **gefs_elevations.nc**\n"
   ]
  },
  {
   "cell_type": "markdown",
   "metadata": {},
   "source": [
    "### Install Libraries\n",
    "`conda_python3` 커널에서 netcdf4 패키지를 설치해 주세요."
   ]
  },
  {
   "cell_type": "code",
   "execution_count": 1,
   "metadata": {},
   "outputs": [],
   "source": [
    "#!conda install -c anaconda netcdf4 --yes\n",
    "#!pip install kaggle opencv-python"
   ]
  },
  {
   "cell_type": "markdown",
   "metadata": {},
   "source": [
    "<br>\n",
    "\n",
    "## 1. Prepare Dataset\n",
    "---\n",
    "\n",
    "### Download Dataset\n",
    "\n",
    "본 데이터셋을 다운로드받으려면 Kaggle 계정이 있어야 합니다. Kaggle에 로그인 후, `My Account` - Create New API Token 버튼을 클릭해서 `kaggle.json` 파일을 다운로드하여 노트북 인스턴스로 전송하신 다음, 아래의 코드 셀의 주석을 해제하고 실행해 주세요."
   ]
  },
  {
   "cell_type": "code",
   "execution_count": 2,
   "metadata": {},
   "outputs": [],
   "source": [
    "# !mkdir ~/.kaggle\n",
    "# !cp kaggle.json ~/.kaggle/kaggle.json\n",
    "# !chmod 600 /home/ec2-user/.kaggle/kaggle.json\n",
    "# data_dir = \"data\"\n",
    "# !rm -rf {data_dir}\n",
    "# !kaggle competitions download -c ams-2014-solar-energy-prediction-contest -p {data_dir}"
   ]
  },
  {
   "cell_type": "code",
   "execution_count": 3,
   "metadata": {},
   "outputs": [],
   "source": [
    "# !unzip {data_dir}/ams-2014-solar-energy-prediction-contest.zip -d {data_dir}\n",
    "# !rm {data_dir}/ams-2014-solar-energy-prediction-contest.zip"
   ]
  },
  {
   "cell_type": "code",
   "execution_count": 4,
   "metadata": {},
   "outputs": [],
   "source": [
    "# !tar -xzvf {data_dir}/gefs_train.tar.gz\n",
    "# !tar -xzvf {data_dir}/gefs_test.tar.gz"
   ]
  },
  {
   "cell_type": "markdown",
   "metadata": {},
   "source": [
    "[Note] 최신 netCDF 패키지는 S3 읽기를 지원하므로, NetCDF 파일들을 S3에 업로드하셔도 됩니다."
   ]
  },
  {
   "cell_type": "code",
   "execution_count": 5,
   "metadata": {},
   "outputs": [],
   "source": [
    "import os\n",
    "import numpy as np\n",
    "import pandas as pd\n",
    "from netCDF4 import Dataset, num2date, date2num, date2index\n",
    "\n",
    "dataset = Dataset('train/apcp_sfc_latlon_subset_19940101_20071231.nc')"
   ]
  },
  {
   "cell_type": "code",
   "execution_count": 6,
   "metadata": {},
   "outputs": [
    {
     "name": "stdout",
     "output_type": "stream",
     "text": [
      "NETCDF4\n",
      "odict_keys(['time', 'lat', 'lon', 'ens', 'fhour'])\n",
      "time= <class 'netCDF4._netCDF4.Dimension'>: name = 'time', size = 5113\n",
      "keys= odict_keys(['time', 'intTime', 'lat', 'lon', 'ens', 'fhour', 'intValidTime', 'Total_precipitation'])\n",
      "inttime= [1994010100 1994010200]\n",
      "lat= <class 'netCDF4._netCDF4.Dimension'>: name = 'lat', size = 9\n",
      "lat0= [31. 32. 33. 34. 35. 36. 37. 38. 39.]\n",
      "lon= <class 'netCDF4._netCDF4.Dimension'>: name = 'lon', size = 16\n",
      "lon=0 [254. 255. 256. 257. 258. 259. 260. 261. 262. 263. 264. 265. 266. 267.\n",
      " 268. 269.]\n",
      "<class 'netCDF4._netCDF4.Variable'>\n",
      "float32 Total_precipitation(time, ens, fhour, lat, lon)\n",
      "    _FillValue: 9999.0\n",
      "    units: kg m-2\n",
      "    long_name: Total_precipitation_Accumulation (Accumulation for  Mixed Intervals) @ surface\n",
      "    cell_methods: time: sum\n",
      "    GRIB_param_discipline: Meteorological_products\n",
      "    GRIB_param_category: Moisture\n",
      "    GRIB_param_name: Total_precipitation\n",
      "    GRIB_generating_process_type: Forecast\n",
      "    GRIB_param_id: [2 0 1 8]\n",
      "    GRIB_product_definition_template: 8\n",
      "    GRIB_product_definition_template_desc: Average, accumulation, extreme values or other statistically processed value at a horizontal level in a time interval\n",
      "    GRIB_level_type: 1\n",
      "    GRIB_level_type_name: surface\n",
      "    GRIB_interval_stat_type: Accumulation\n",
      "    GRIB_VectorComponentFlag: easterlyNortherlyRelative\n",
      "unlimited dimensions: \n",
      "current shape = (5113, 11, 5, 9, 16)\n",
      "filling on\n",
      "sample= 0.0\n"
     ]
    }
   ],
   "source": [
    "print (dataset.file_format)\n",
    "print ( dataset.dimensions.keys())\n",
    "print ('time=', dataset.dimensions['time'])\n",
    "print ('keys=', dataset.variables.keys())\n",
    "print ('inttime=',dataset.variables['intTime'][0:2])\n",
    "print ('lat=', dataset.dimensions['lat'])\n",
    "print ('lat0=', dataset.variables['lat'][0:])\n",
    "print ('lon=', dataset.dimensions['lon'])\n",
    "print ('lon=0', dataset.variables['lon'][0:])\n",
    "print (dataset.variables['Total_precipitation'])\n",
    "print ('sample=', dataset.variables['Total_precipitation'][0][0][0][0][0])"
   ]
  },
  {
   "cell_type": "code",
   "execution_count": 7,
   "metadata": {},
   "outputs": [
    {
     "name": "stdout",
     "output_type": "stream",
     "text": [
      "keys= odict_keys(['time', 'intTime', 'lat', 'lon', 'ens', 'fhour', 'intValidTime', 'Total_precipitation'])\n",
      "inttime= [1994010100 1994010200]\n"
     ]
    }
   ],
   "source": [
    "print ('keys=', dataset.variables.keys())\n",
    "print ('inttime=',dataset.variables['intTime'][0:2])"
   ]
  },
  {
   "cell_type": "code",
   "execution_count": 8,
   "metadata": {},
   "outputs": [
    {
     "name": "stdout",
     "output_type": "stream",
     "text": [
      "[31. 32. 33. 34. 35. 36. 37. 38. 39.] [254. 255. 256. 257. 258. 259. 260. 261. 262. 263. 264. 265. 266. 267.\n",
      " 268. 269.]\n",
      "(9,) (16,)\n"
     ]
    }
   ],
   "source": [
    "lon = dataset.variables['lon'][:]\n",
    "lat = dataset.variables['lat'][:]\n",
    "print(lat, lon)\n",
    "print(lat.shape, lon.shape)"
   ]
  },
  {
   "cell_type": "code",
   "execution_count": 9,
   "metadata": {},
   "outputs": [
    {
     "name": "stdout",
     "output_type": "stream",
     "text": [
      "[12 15 18 21 24]\n"
     ]
    }
   ],
   "source": [
    "fhour = dataset.variables['fhour'][:]\n",
    "print(fhour)"
   ]
  },
  {
   "cell_type": "code",
   "execution_count": 10,
   "metadata": {},
   "outputs": [
    {
     "name": "stdout",
     "output_type": "stream",
     "text": [
      "(5113,)\n",
      "[cftime.DatetimeGregorian(1994, 1, 1, 0, 0, 0, 0)\n",
      " cftime.DatetimeGregorian(1994, 1, 2, 0, 0, 0, 0)\n",
      " cftime.DatetimeGregorian(1994, 1, 3, 0, 0, 0, 0) ...\n",
      " cftime.DatetimeGregorian(2007, 12, 29, 0, 0, 0, 0)\n",
      " cftime.DatetimeGregorian(2007, 12, 30, 0, 0, 0, 0)\n",
      " cftime.DatetimeGregorian(2007, 12, 31, 0, 0, 0, 0)]\n",
      "['1994-01-01T00:00:00.000000000' '1994-01-02T00:00:00.000000000'\n",
      " '1994-01-03T00:00:00.000000000' ... '2007-12-29T00:00:00.000000000'\n",
      " '2007-12-30T00:00:00.000000000' '2007-12-31T00:00:00.000000000']\n"
     ]
    }
   ],
   "source": [
    "time = dataset.variables['time']\n",
    "print(time.shape)\n",
    "dtime = num2date(time[:], time.units)\n",
    "print(dtime)\n",
    "nptimes = dtime.astype('datetime64[ns]')\n",
    "print(nptimes)"
   ]
  },
  {
   "cell_type": "markdown",
   "metadata": {},
   "source": [
    "5-D Data; 날짜(년-월-일) x # features x 측정시간(12/15/18/21/24시) x 위도 x 경도"
   ]
  },
  {
   "cell_type": "code",
   "execution_count": 11,
   "metadata": {},
   "outputs": [
    {
     "name": "stdout",
     "output_type": "stream",
     "text": [
      "(5113, 11, 5, 9, 16)\n"
     ]
    }
   ],
   "source": [
    "features = dataset.variables['Total_precipitation'][:]\n",
    "print(features.shape)"
   ]
  },
  {
   "cell_type": "markdown",
   "metadata": {},
   "source": [
    "<br>\n",
    "\n",
    "## 2. Explore Dataset\n",
    "---\n",
    "\n",
    "데이터셋을 자유롭게 탐색해 보세요.\n",
    "\n",
    "### Ground Truth CSV for Training \n",
    "\n",
    "1994년 1월 1일부터 운영되고 있는 오클라호마 Mesonet 사이트에 들어오는 총 태양광 에너지로 5분마다 일사계로 직접 측정 (일출부터 23:55UTC까지 데이터를 모두 합산)"
   ]
  },
  {
   "cell_type": "code",
   "execution_count": 12,
   "metadata": {},
   "outputs": [
    {
     "data": {
      "text/html": [
       "<div>\n",
       "<style scoped>\n",
       "    .dataframe tbody tr th:only-of-type {\n",
       "        vertical-align: middle;\n",
       "    }\n",
       "\n",
       "    .dataframe tbody tr th {\n",
       "        vertical-align: top;\n",
       "    }\n",
       "\n",
       "    .dataframe thead th {\n",
       "        text-align: right;\n",
       "    }\n",
       "</style>\n",
       "<table border=\"1\" class=\"dataframe\">\n",
       "  <thead>\n",
       "    <tr style=\"text-align: right;\">\n",
       "      <th></th>\n",
       "      <th>Date</th>\n",
       "      <th>ACME</th>\n",
       "      <th>ADAX</th>\n",
       "      <th>ALTU</th>\n",
       "      <th>APAC</th>\n",
       "      <th>ARNE</th>\n",
       "      <th>BEAV</th>\n",
       "      <th>BESS</th>\n",
       "      <th>BIXB</th>\n",
       "      <th>BLAC</th>\n",
       "      <th>...</th>\n",
       "      <th>VINI</th>\n",
       "      <th>WASH</th>\n",
       "      <th>WATO</th>\n",
       "      <th>WAUR</th>\n",
       "      <th>WEAT</th>\n",
       "      <th>WEST</th>\n",
       "      <th>WILB</th>\n",
       "      <th>WIST</th>\n",
       "      <th>WOOD</th>\n",
       "      <th>WYNO</th>\n",
       "    </tr>\n",
       "  </thead>\n",
       "  <tbody>\n",
       "    <tr>\n",
       "      <th>0</th>\n",
       "      <td>19940101</td>\n",
       "      <td>12384900.0</td>\n",
       "      <td>11930700.0</td>\n",
       "      <td>12116700.0</td>\n",
       "      <td>12301200.0</td>\n",
       "      <td>10706100.0</td>\n",
       "      <td>10116900.0</td>\n",
       "      <td>11487900.0</td>\n",
       "      <td>11182800.0</td>\n",
       "      <td>10848300.0</td>\n",
       "      <td>...</td>\n",
       "      <td>10771800.0</td>\n",
       "      <td>12116400.0</td>\n",
       "      <td>11308800.0</td>\n",
       "      <td>12361800.0</td>\n",
       "      <td>11331600.0</td>\n",
       "      <td>10644300.0</td>\n",
       "      <td>11715600.0</td>\n",
       "      <td>11241000.0</td>\n",
       "      <td>10490100.0</td>\n",
       "      <td>10545300.0</td>\n",
       "    </tr>\n",
       "    <tr>\n",
       "      <th>1</th>\n",
       "      <td>19940102</td>\n",
       "      <td>11908500.0</td>\n",
       "      <td>9778500.0</td>\n",
       "      <td>10862700.0</td>\n",
       "      <td>11666400.0</td>\n",
       "      <td>8062500.0</td>\n",
       "      <td>9262800.0</td>\n",
       "      <td>9235200.0</td>\n",
       "      <td>3963300.0</td>\n",
       "      <td>3318300.0</td>\n",
       "      <td>...</td>\n",
       "      <td>4314300.0</td>\n",
       "      <td>10733400.0</td>\n",
       "      <td>9154800.0</td>\n",
       "      <td>12041400.0</td>\n",
       "      <td>9168300.0</td>\n",
       "      <td>4082700.0</td>\n",
       "      <td>9228000.0</td>\n",
       "      <td>5829900.0</td>\n",
       "      <td>7412100.0</td>\n",
       "      <td>3345300.0</td>\n",
       "    </tr>\n",
       "    <tr>\n",
       "      <th>2</th>\n",
       "      <td>19940103</td>\n",
       "      <td>12470700.0</td>\n",
       "      <td>9771900.0</td>\n",
       "      <td>12627300.0</td>\n",
       "      <td>12782700.0</td>\n",
       "      <td>11618400.0</td>\n",
       "      <td>10789800.0</td>\n",
       "      <td>11895900.0</td>\n",
       "      <td>4512600.0</td>\n",
       "      <td>5266500.0</td>\n",
       "      <td>...</td>\n",
       "      <td>2976900.0</td>\n",
       "      <td>11775000.0</td>\n",
       "      <td>10700400.0</td>\n",
       "      <td>12687300.0</td>\n",
       "      <td>11324400.0</td>\n",
       "      <td>2746500.0</td>\n",
       "      <td>3686700.0</td>\n",
       "      <td>4488900.0</td>\n",
       "      <td>9712200.0</td>\n",
       "      <td>4442100.0</td>\n",
       "    </tr>\n",
       "    <tr>\n",
       "      <th>3</th>\n",
       "      <td>19940104</td>\n",
       "      <td>12725400.0</td>\n",
       "      <td>6466800.0</td>\n",
       "      <td>13065300.0</td>\n",
       "      <td>12817500.0</td>\n",
       "      <td>12134400.0</td>\n",
       "      <td>11816700.0</td>\n",
       "      <td>12186600.0</td>\n",
       "      <td>3212700.0</td>\n",
       "      <td>8270100.0</td>\n",
       "      <td>...</td>\n",
       "      <td>3476400.0</td>\n",
       "      <td>12159600.0</td>\n",
       "      <td>11907000.0</td>\n",
       "      <td>12953100.0</td>\n",
       "      <td>11903700.0</td>\n",
       "      <td>2741400.0</td>\n",
       "      <td>4905000.0</td>\n",
       "      <td>4089300.0</td>\n",
       "      <td>11401500.0</td>\n",
       "      <td>4365000.0</td>\n",
       "    </tr>\n",
       "    <tr>\n",
       "      <th>4</th>\n",
       "      <td>19940105</td>\n",
       "      <td>10894800.0</td>\n",
       "      <td>11545200.0</td>\n",
       "      <td>8060400.0</td>\n",
       "      <td>10379400.0</td>\n",
       "      <td>6918600.0</td>\n",
       "      <td>9936300.0</td>\n",
       "      <td>6411300.0</td>\n",
       "      <td>9566100.0</td>\n",
       "      <td>8009400.0</td>\n",
       "      <td>...</td>\n",
       "      <td>6393300.0</td>\n",
       "      <td>11419500.0</td>\n",
       "      <td>7334400.0</td>\n",
       "      <td>10178700.0</td>\n",
       "      <td>7471500.0</td>\n",
       "      <td>8235300.0</td>\n",
       "      <td>11159100.0</td>\n",
       "      <td>10651500.0</td>\n",
       "      <td>10006200.0</td>\n",
       "      <td>8568300.0</td>\n",
       "    </tr>\n",
       "  </tbody>\n",
       "</table>\n",
       "<p>5 rows × 99 columns</p>\n",
       "</div>"
      ],
      "text/plain": [
       "       Date        ACME        ADAX        ALTU        APAC        ARNE  \\\n",
       "0  19940101  12384900.0  11930700.0  12116700.0  12301200.0  10706100.0   \n",
       "1  19940102  11908500.0   9778500.0  10862700.0  11666400.0   8062500.0   \n",
       "2  19940103  12470700.0   9771900.0  12627300.0  12782700.0  11618400.0   \n",
       "3  19940104  12725400.0   6466800.0  13065300.0  12817500.0  12134400.0   \n",
       "4  19940105  10894800.0  11545200.0   8060400.0  10379400.0   6918600.0   \n",
       "\n",
       "         BEAV        BESS        BIXB        BLAC  ...        VINI  \\\n",
       "0  10116900.0  11487900.0  11182800.0  10848300.0  ...  10771800.0   \n",
       "1   9262800.0   9235200.0   3963300.0   3318300.0  ...   4314300.0   \n",
       "2  10789800.0  11895900.0   4512600.0   5266500.0  ...   2976900.0   \n",
       "3  11816700.0  12186600.0   3212700.0   8270100.0  ...   3476400.0   \n",
       "4   9936300.0   6411300.0   9566100.0   8009400.0  ...   6393300.0   \n",
       "\n",
       "         WASH        WATO        WAUR        WEAT        WEST        WILB  \\\n",
       "0  12116400.0  11308800.0  12361800.0  11331600.0  10644300.0  11715600.0   \n",
       "1  10733400.0   9154800.0  12041400.0   9168300.0   4082700.0   9228000.0   \n",
       "2  11775000.0  10700400.0  12687300.0  11324400.0   2746500.0   3686700.0   \n",
       "3  12159600.0  11907000.0  12953100.0  11903700.0   2741400.0   4905000.0   \n",
       "4  11419500.0   7334400.0  10178700.0   7471500.0   8235300.0  11159100.0   \n",
       "\n",
       "         WIST        WOOD        WYNO  \n",
       "0  11241000.0  10490100.0  10545300.0  \n",
       "1   5829900.0   7412100.0   3345300.0  \n",
       "2   4488900.0   9712200.0   4442100.0  \n",
       "3   4089300.0  11401500.0   4365000.0  \n",
       "4  10651500.0  10006200.0   8568300.0  \n",
       "\n",
       "[5 rows x 99 columns]"
      ]
     },
     "metadata": {},
     "output_type": "display_data"
    },
    {
     "name": "stdout",
     "output_type": "stream",
     "text": [
      "(5113, 99)\n"
     ]
    }
   ],
   "source": [
    "train_df = pd.read_csv(\"data/solar_training_199401_200712.csv\")\n",
    "display(train_df.head())\n",
    "print(train_df.shape)"
   ]
  },
  {
   "cell_type": "markdown",
   "metadata": {},
   "source": [
    "98개 Mesonet station의 통계치 뽑기 (Station Info와 join하기 위한 목적)"
   ]
  },
  {
   "cell_type": "code",
   "execution_count": 13,
   "metadata": {},
   "outputs": [
    {
     "data": {
      "text/html": [
       "<div>\n",
       "<style scoped>\n",
       "    .dataframe tbody tr th:only-of-type {\n",
       "        vertical-align: middle;\n",
       "    }\n",
       "\n",
       "    .dataframe tbody tr th {\n",
       "        vertical-align: top;\n",
       "    }\n",
       "\n",
       "    .dataframe thead th {\n",
       "        text-align: right;\n",
       "    }\n",
       "</style>\n",
       "<table border=\"1\" class=\"dataframe\">\n",
       "  <thead>\n",
       "    <tr style=\"text-align: right;\">\n",
       "      <th></th>\n",
       "      <th>max</th>\n",
       "      <th>min</th>\n",
       "      <th>mean</th>\n",
       "    </tr>\n",
       "  </thead>\n",
       "  <tbody>\n",
       "    <tr>\n",
       "      <th>ACME</th>\n",
       "      <td>31347900.0</td>\n",
       "      <td>0.0</td>\n",
       "      <td>1.688911e+07</td>\n",
       "    </tr>\n",
       "    <tr>\n",
       "      <th>ADAX</th>\n",
       "      <td>31227000.0</td>\n",
       "      <td>0.0</td>\n",
       "      <td>1.625086e+07</td>\n",
       "    </tr>\n",
       "    <tr>\n",
       "      <th>ALTU</th>\n",
       "      <td>31411500.0</td>\n",
       "      <td>0.0</td>\n",
       "      <td>1.722924e+07</td>\n",
       "    </tr>\n",
       "    <tr>\n",
       "      <th>APAC</th>\n",
       "      <td>31616100.0</td>\n",
       "      <td>3300.0</td>\n",
       "      <td>1.701057e+07</td>\n",
       "    </tr>\n",
       "    <tr>\n",
       "      <th>ARNE</th>\n",
       "      <td>32645700.0</td>\n",
       "      <td>477300.0</td>\n",
       "      <td>1.756017e+07</td>\n",
       "    </tr>\n",
       "  </tbody>\n",
       "</table>\n",
       "</div>"
      ],
      "text/plain": [
       "             max       min          mean\n",
       "ACME  31347900.0       0.0  1.688911e+07\n",
       "ADAX  31227000.0       0.0  1.625086e+07\n",
       "ALTU  31411500.0       0.0  1.722924e+07\n",
       "APAC  31616100.0    3300.0  1.701057e+07\n",
       "ARNE  32645700.0  477300.0  1.756017e+07"
      ]
     },
     "execution_count": 13,
     "metadata": {},
     "output_type": "execute_result"
    }
   ],
   "source": [
    "solar_stats = train_df.agg(['max', 'min', 'mean']).drop('Date', axis=1).transpose()\n",
    "solar_stats.head()"
   ]
  },
  {
   "cell_type": "markdown",
   "metadata": {},
   "source": [
    "### Station Info\n",
    "98개 Mesonet station의 위도, 경도 및 고도(미터 단위)"
   ]
  },
  {
   "cell_type": "code",
   "execution_count": 14,
   "metadata": {},
   "outputs": [
    {
     "data": {
      "text/html": [
       "<div>\n",
       "<style scoped>\n",
       "    .dataframe tbody tr th:only-of-type {\n",
       "        vertical-align: middle;\n",
       "    }\n",
       "\n",
       "    .dataframe tbody tr th {\n",
       "        vertical-align: top;\n",
       "    }\n",
       "\n",
       "    .dataframe thead th {\n",
       "        text-align: right;\n",
       "    }\n",
       "</style>\n",
       "<table border=\"1\" class=\"dataframe\">\n",
       "  <thead>\n",
       "    <tr style=\"text-align: right;\">\n",
       "      <th></th>\n",
       "      <th>stid</th>\n",
       "      <th>nlat</th>\n",
       "      <th>elon</th>\n",
       "      <th>elev</th>\n",
       "    </tr>\n",
       "  </thead>\n",
       "  <tbody>\n",
       "    <tr>\n",
       "      <th>0</th>\n",
       "      <td>ACME</td>\n",
       "      <td>34.80833</td>\n",
       "      <td>-98.02325</td>\n",
       "      <td>397</td>\n",
       "    </tr>\n",
       "    <tr>\n",
       "      <th>1</th>\n",
       "      <td>ADAX</td>\n",
       "      <td>34.79851</td>\n",
       "      <td>-96.66909</td>\n",
       "      <td>295</td>\n",
       "    </tr>\n",
       "    <tr>\n",
       "      <th>2</th>\n",
       "      <td>ALTU</td>\n",
       "      <td>34.58722</td>\n",
       "      <td>-99.33808</td>\n",
       "      <td>416</td>\n",
       "    </tr>\n",
       "    <tr>\n",
       "      <th>3</th>\n",
       "      <td>APAC</td>\n",
       "      <td>34.91418</td>\n",
       "      <td>-98.29216</td>\n",
       "      <td>440</td>\n",
       "    </tr>\n",
       "    <tr>\n",
       "      <th>4</th>\n",
       "      <td>ARNE</td>\n",
       "      <td>36.07204</td>\n",
       "      <td>-99.90308</td>\n",
       "      <td>719</td>\n",
       "    </tr>\n",
       "  </tbody>\n",
       "</table>\n",
       "</div>"
      ],
      "text/plain": [
       "   stid      nlat      elon  elev\n",
       "0  ACME  34.80833 -98.02325   397\n",
       "1  ADAX  34.79851 -96.66909   295\n",
       "2  ALTU  34.58722 -99.33808   416\n",
       "3  APAC  34.91418 -98.29216   440\n",
       "4  ARNE  36.07204 -99.90308   719"
      ]
     },
     "metadata": {},
     "output_type": "display_data"
    },
    {
     "name": "stdout",
     "output_type": "stream",
     "text": [
      "(98, 4)\n"
     ]
    }
   ],
   "source": [
    "station_df = pd.read_csv(\"data/station_info.csv\")\n",
    "display(station_df.head())\n",
    "print(station_df.shape)"
   ]
  },
  {
   "cell_type": "markdown",
   "metadata": {},
   "source": [
    "Ground truth 통계치를 Station Info에 Join합니다."
   ]
  },
  {
   "cell_type": "code",
   "execution_count": 15,
   "metadata": {},
   "outputs": [
    {
     "data": {
      "text/html": [
       "<div>\n",
       "<style scoped>\n",
       "    .dataframe tbody tr th:only-of-type {\n",
       "        vertical-align: middle;\n",
       "    }\n",
       "\n",
       "    .dataframe tbody tr th {\n",
       "        vertical-align: top;\n",
       "    }\n",
       "\n",
       "    .dataframe thead th {\n",
       "        text-align: right;\n",
       "    }\n",
       "</style>\n",
       "<table border=\"1\" class=\"dataframe\">\n",
       "  <thead>\n",
       "    <tr style=\"text-align: right;\">\n",
       "      <th></th>\n",
       "      <th>nlat</th>\n",
       "      <th>elon</th>\n",
       "      <th>elev</th>\n",
       "      <th>max</th>\n",
       "      <th>min</th>\n",
       "      <th>mean</th>\n",
       "    </tr>\n",
       "    <tr>\n",
       "      <th>stid</th>\n",
       "      <th></th>\n",
       "      <th></th>\n",
       "      <th></th>\n",
       "      <th></th>\n",
       "      <th></th>\n",
       "      <th></th>\n",
       "    </tr>\n",
       "  </thead>\n",
       "  <tbody>\n",
       "    <tr>\n",
       "      <th>ACME</th>\n",
       "      <td>34.80833</td>\n",
       "      <td>-98.02325</td>\n",
       "      <td>397</td>\n",
       "      <td>31347900.0</td>\n",
       "      <td>0.0</td>\n",
       "      <td>1.688911e+07</td>\n",
       "    </tr>\n",
       "    <tr>\n",
       "      <th>ADAX</th>\n",
       "      <td>34.79851</td>\n",
       "      <td>-96.66909</td>\n",
       "      <td>295</td>\n",
       "      <td>31227000.0</td>\n",
       "      <td>0.0</td>\n",
       "      <td>1.625086e+07</td>\n",
       "    </tr>\n",
       "    <tr>\n",
       "      <th>ALTU</th>\n",
       "      <td>34.58722</td>\n",
       "      <td>-99.33808</td>\n",
       "      <td>416</td>\n",
       "      <td>31411500.0</td>\n",
       "      <td>0.0</td>\n",
       "      <td>1.722924e+07</td>\n",
       "    </tr>\n",
       "    <tr>\n",
       "      <th>APAC</th>\n",
       "      <td>34.91418</td>\n",
       "      <td>-98.29216</td>\n",
       "      <td>440</td>\n",
       "      <td>31616100.0</td>\n",
       "      <td>3300.0</td>\n",
       "      <td>1.701057e+07</td>\n",
       "    </tr>\n",
       "    <tr>\n",
       "      <th>ARNE</th>\n",
       "      <td>36.07204</td>\n",
       "      <td>-99.90308</td>\n",
       "      <td>719</td>\n",
       "      <td>32645700.0</td>\n",
       "      <td>477300.0</td>\n",
       "      <td>1.756017e+07</td>\n",
       "    </tr>\n",
       "  </tbody>\n",
       "</table>\n",
       "</div>"
      ],
      "text/plain": [
       "          nlat      elon  elev         max       min          mean\n",
       "stid                                                              \n",
       "ACME  34.80833 -98.02325   397  31347900.0       0.0  1.688911e+07\n",
       "ADAX  34.79851 -96.66909   295  31227000.0       0.0  1.625086e+07\n",
       "ALTU  34.58722 -99.33808   416  31411500.0       0.0  1.722924e+07\n",
       "APAC  34.91418 -98.29216   440  31616100.0    3300.0  1.701057e+07\n",
       "ARNE  36.07204 -99.90308   719  32645700.0  477300.0  1.756017e+07"
      ]
     },
     "metadata": {},
     "output_type": "display_data"
    }
   ],
   "source": [
    "station_df.set_index('stid', inplace=True)\n",
    "station_df = station_df.join(solar_stats, how='left')\n",
    "display(station_df.head())"
   ]
  },
  {
   "cell_type": "markdown",
   "metadata": {},
   "source": [
    "### Dataset"
   ]
  },
  {
   "cell_type": "markdown",
   "metadata": {},
   "source": [
    "특정 날짜의 경우 각 앙상블 멤버에 대한 5개의 예측 시간에 대한 합계를 취한 후, 합계된 앙상블의 평균을 취하여 이를 시각화해봅니다."
   ]
  },
  {
   "cell_type": "code",
   "execution_count": 16,
   "metadata": {},
   "outputs": [],
   "source": [
    "%matplotlib inline\n",
    "def visualize_GEFS_grid(time):\n",
    "    import cv2\n",
    "    import matplotlib.pyplot as plt\n",
    "    date_idx = np.where(dataset.variables['intTime'][:] == time)[0]\n",
    "    hour_idx = np.where(dataset.variables['fhour'][:] <= 24)[0]\n",
    "    tmp = list(dataset.variables.values())[-1][date_idx,:,hour_idx,:,:]\n",
    "    grid = tmp.sum(axis=2).mean(axis=1).squeeze()\n",
    "    grid_resize = cv2.resize(grid, (100, 100))\n",
    "    plt.imshow(grid_resize)\n",
    "    plt.colorbar()\n",
    "    \n",
    "    return grid"
   ]
  },
  {
   "cell_type": "markdown",
   "metadata": {},
   "source": [
    "1994년 1월 1일의 집계(aggregated) 피쳐입니다."
   ]
  },
  {
   "cell_type": "code",
   "execution_count": 17,
   "metadata": {},
   "outputs": [
    {
     "data": {
      "image/png": "[encoded data removed]",
      "text/plain": [
       "<Figure size 432x288 with 2 Axes>"
      ]
     },
     "metadata": {
      "needs_background": "light"
     },
     "output_type": "display_data"
    }
   ],
   "source": [
    "grid = visualize_GEFS_grid(1994010100)"
   ]
  },
  {
   "cell_type": "markdown",
   "metadata": {},
   "source": [
    "1995년 1월 21일의 집계(aggregated) 피쳐입니다."
   ]
  },
  {
   "cell_type": "code",
   "execution_count": 18,
   "metadata": {},
   "outputs": [
    {
     "data": {
      "image/png": "[encoded data removed]",
      "text/plain": [
       "<Figure size 432x288 with 2 Axes>"
      ]
     },
     "metadata": {
      "needs_background": "light"
     },
     "output_type": "display_data"
    }
   ],
   "source": [
    "grid = visualize_GEFS_grid(1995012100)"
   ]
  },
  {
   "cell_type": "markdown",
   "metadata": {},
   "source": [
    "### GEFS"
   ]
  },
  {
   "cell_type": "code",
   "execution_count": 19,
   "metadata": {},
   "outputs": [
    {
     "data": {
      "text/plain": [
       "<class 'netCDF4._netCDF4.Dataset'>\n",
       "root group (NETCDF4 data model, file format HDF5):\n",
       "    dimensions(sizes): lon(16), lat(9)\n",
       "    variables(dimensions): float32 elevation_control(lat,lon), float32 elevation_perturbation(lat,lon), float32 latitude(lat,lon), float32 longitude(lat,lon)\n",
       "    groups: "
      ]
     },
     "execution_count": 19,
     "metadata": {},
     "output_type": "execute_result"
    }
   ],
   "source": [
    "gefs = Dataset('data/gefs_elevations.nc')\n",
    "gefs"
   ]
  },
  {
   "cell_type": "markdown",
   "metadata": {},
   "source": [
    "### Features"
   ]
  },
  {
   "cell_type": "code",
   "execution_count": 20,
   "metadata": {},
   "outputs": [],
   "source": [
    "dataset = Dataset('train/apcp_sfc_latlon_subset_19940101_20071231.nc')"
   ]
  },
  {
   "cell_type": "code",
   "execution_count": 21,
   "metadata": {},
   "outputs": [
    {
     "data": {
      "text/plain": [
       "<class 'netCDF4._netCDF4.Dataset'>\n",
       "root group (NETCDF4 data model, file format HDF5):\n",
       "    Conventions: CF-1.0\n",
       "    title: Subset of data from 2nd-generation multi-decadal ensemble reforecast generated from the NCEP Global Ensemble Forecast System, mimicking version operational at NCEP/EMC circa mid-2012.\n",
       "    institution: NOAA Earth System Research Laboratory (ESRL)\n",
       "    source: NCEP GFS v 9.01, T254L42.  Control initial conditions from CFSRR.  Perturbed initial conditions from ETR.  Model error simulated with STTP.\n",
       "    references: http://www.esrl.noaa.gov/psd/forecasts/reforecast2/index.html\n",
       "    history: Subset created 2013-01-15 19:18:02 UTC\n",
       "    comment: Original dataset generated on DOE's supercomputers at Lawrence Berkeley Laboratory through ALCC/ASCR grant.\n",
       "    dimensions(sizes): time(5113), lat(9), lon(16), ens(11), fhour(5)\n",
       "    variables(dimensions): float64 time(time), int32 intTime(time), float32 lat(lat), float32 lon(lon), int16 ens(ens), int32 fhour(fhour), int32 intValidTime(time,fhour), float32 Total_precipitation(time,ens,fhour,lat,lon)\n",
       "    groups: "
      ]
     },
     "execution_count": 21,
     "metadata": {},
     "output_type": "execute_result"
    }
   ],
   "source": [
    "dataset"
   ]
  },
  {
   "cell_type": "markdown",
   "metadata": {},
   "source": [
    "<br>\n",
    "\n",
    "## 4. Baseline Modeling\n",
    "---\n",
    "\n",
    "scikit-learn의 빌트인 알고리즘 중 Random Forest로 baseline 모델링을 수행해 봅니다.\n",
    "\n",
    "- Baseline으로 scikit-learn의 다양한 Regressor들을 활용 가능\n",
    "- SageMaker의 built-in XGBoost를 써도 무방"
   ]
  },
  {
   "cell_type": "code",
   "execution_count": 22,
   "metadata": {},
   "outputs": [],
   "source": [
    "import os\n",
    "# 측정치: 11개 앙상블 결과와 5개 시간 데이터의 평균으로 문제 간소화\n",
    "# 위도/경도 정보는 보존해야 하므로 144차원으로 reshape (9 x 16 = 144)\n",
    "def get_predictor(path, predictor, postfix):\n",
    "    \n",
    "    filepath = os.path.join(path, predictor + postfix)\n",
    "    X = Dataset(filepath)\n",
    "    X = dataset.variables['Total_precipitation'][:]\n",
    "    X = X.reshape(X.shape[0], 55, 9, 16)\n",
    "    X = np.mean(X, axis=1)\n",
    "    X = X.reshape(X.shape[0], np.prod(X.shape[1:])) \n",
    "    \n",
    "    return X\n",
    "\n",
    "# Dimension should be of timestamp x 2160\n",
    "# 144 x 15개의 predictor 정보를 한꺼번에 concatenate하여 훈련을 수행하는 것이 효율적임\n",
    "def get_all_predictors(path, predictors, postfix):\n",
    "    for i, predictor in enumerate(predictors):\n",
    "        if i == 0:\n",
    "            X = get_predictor(path, predictor, postfix)\n",
    "        else:\n",
    "            X_append = get_predictor(path, predictor, postfix)\n",
    "            X = np.hstack((X, X_append))\n",
    "\n",
    "    return X\n",
    "\n",
    "def import_csv_data():\n",
    "    df_train = np.loadtxt('data/train.csv', delimiter=',', dtype=float, skiprows=1)\n",
    "\n",
    "    return df_train\n",
    "\n",
    "def split_times(df_data):\n",
    "    times = df_data[:, 0].astype(int)\n",
    "    data = df_data[:, 1:]\n",
    "\n",
    "    return times, data"
   ]
  },
  {
   "cell_type": "code",
   "execution_count": 23,
   "metadata": {},
   "outputs": [],
   "source": [
    "predictors = ['apcp_sfc','dlwrf_sfc','dswrf_sfc','pres_msl','pwat_eatm',\\\n",
    "              'spfh_2m','tcdc_eatm','tcolc_eatm','tmax_2m','tmin_2m',\\\n",
    "              'tmp_2m','tmp_sfc','ulwrf_sfc','ulwrf_tatm','uswrf_sfc']\n",
    "\n",
    "train_path = 'train'\n",
    "test_path = 'test'\n",
    "train_postfix = '_latlon_subset_19940101_20071231.nc'\n",
    "test_postfix = '_latlon_subset_20080101_20121130.nc'\n",
    "\n"
   ]
  },
  {
   "cell_type": "markdown",
   "metadata": {},
   "source": [
    "`apcp_sfc` (3시간 누적 강수량) 에 대한 피쳐(feature)를 확인해 봅니다. 피쳐셋의 차원은 $5113 \\times 144$가 되어야 합니다."
   ]
  },
  {
   "cell_type": "code",
   "execution_count": 24,
   "metadata": {},
   "outputs": [],
   "source": [
    "x = get_predictor('train', predictors[0], train_postfix)"
   ]
  },
  {
   "cell_type": "code",
   "execution_count": 25,
   "metadata": {},
   "outputs": [
    {
     "data": {
      "text/plain": [
       "masked_array(\n",
       "  data=[[0.        , 0.        , 0.        , ..., 0.02927272, 0.06854544,\n",
       "         0.27690914],\n",
       "        [0.        , 0.        , 0.        , ..., 0.4425454 , 0.19709091,\n",
       "         0.156     ],\n",
       "        [0.        , 0.        , 0.        , ..., 0.4116363 , 0.5930909 ,\n",
       "         0.47581828],\n",
       "        ...,\n",
       "        [0.00090909, 0.00109091, 0.00090909, ..., 0.00236364, 0.00763636,\n",
       "         0.00072727],\n",
       "        [0.        , 0.        , 0.        , ..., 0.02418181, 0.02254545,\n",
       "         0.00854545],\n",
       "        [0.        , 0.        , 0.        , ..., 0.61163634, 0.48018187,\n",
       "         0.2814546 ]],\n",
       "  mask=False,\n",
       "  fill_value=1e+20,\n",
       "  dtype=float32)"
      ]
     },
     "execution_count": 25,
     "metadata": {},
     "output_type": "execute_result"
    }
   ],
   "source": [
    "x"
   ]
  },
  {
   "cell_type": "code",
   "execution_count": 26,
   "metadata": {},
   "outputs": [
    {
     "name": "stdout",
     "output_type": "stream",
     "text": [
      "(5113, 144)\n"
     ]
    }
   ],
   "source": [
    "print(x.shape)"
   ]
  },
  {
   "cell_type": "markdown",
   "metadata": {},
   "source": [
    "15종류의 predictor에 대한 모든 feature를 얻습니다.\n",
    "- X 변수의 차원: $(5113 \\times 2160)$\n",
    "    - 144 x 15 = 2160; 15종류의 predictor 정보를 한꺼번에 concatenate하기 때문입니다.\n",
    "- y 변수의 차원: $(5113 \\times 98)$\n",
    "    - 98개의 다중 변수 예측 문제이기 때문입니다.\n"
   ]
  },
  {
   "cell_type": "code",
   "execution_count": 27,
   "metadata": {},
   "outputs": [
    {
     "name": "stdout",
     "output_type": "stream",
     "text": [
      "CPU times: user 39.4 s, sys: 1.86 s, total: 41.3 s\n",
      "Wall time: 41.3 s\n"
     ]
    }
   ],
   "source": [
    "%%time\n",
    "train_x_all = get_all_predictors(train_path, predictors, train_postfix)\n",
    "test_x_all = get_all_predictors(test_path, predictors, test_postfix)"
   ]
  },
  {
   "cell_type": "code",
   "execution_count": 28,
   "metadata": {},
   "outputs": [],
   "source": [
    "ground_truth = np.loadtxt('data/train.csv', delimiter=',', dtype=float, skiprows=1)\n",
    "timesteps = ground_truth[:, 0].astype(int)\n",
    "train_y_all = ground_truth[:, 1:]\n",
    "del ground_truth"
   ]
  },
  {
   "cell_type": "code",
   "execution_count": 29,
   "metadata": {},
   "outputs": [
    {
     "data": {
      "text/plain": [
       "((5113, 2160), (5113, 2160), (5113, 98))"
      ]
     },
     "execution_count": 29,
     "metadata": {},
     "output_type": "execute_result"
    }
   ],
   "source": [
    "train_x_all.shape, test_x_all.shape,train_y_all.shape"
   ]
  },
  {
   "cell_type": "markdown",
   "metadata": {},
   "source": [
    "훈련 데이터/검증 데이터를 분리합니다."
   ]
  },
  {
   "cell_type": "code",
   "execution_count": 30,
   "metadata": {},
   "outputs": [],
   "source": [
    "from sklearn.model_selection import train_test_split\n",
    "trn_x, vld_x, trn_y, vld_y = train_test_split(train_x_all, train_y_all, test_size=1000)"
   ]
  },
  {
   "cell_type": "markdown",
   "metadata": {},
   "source": [
    "훈련 시작 (Decision tree 계열은 굳이 scaling할 필요가 없지만, 만약 logistic regression이나 딥러닝 계열로 훈련을 수행하면 scaling이 필요합니다.)"
   ]
  },
  {
   "cell_type": "code",
   "execution_count": 31,
   "metadata": {},
   "outputs": [
    {
     "name": "stdout",
     "output_type": "stream",
     "text": [
      "CPU times: user 1min 3s, sys: 6.71 ms, total: 1min 3s\n",
      "Wall time: 1min 3s\n"
     ]
    },
    {
     "data": {
      "text/plain": [
       "RandomForestRegressor(n_estimators=5)"
      ]
     },
     "execution_count": 31,
     "metadata": {},
     "output_type": "execute_result"
    }
   ],
   "source": [
    "%%time\n",
    "from sklearn.ensemble import RandomForestRegressor\n",
    "model = RandomForestRegressor(n_estimators=5)\n",
    "model.fit(trn_x, trn_y)"
   ]
  },
  {
   "cell_type": "markdown",
   "metadata": {},
   "source": [
    "<br>\n",
    "\n",
    "## 5. Prediction\n",
    "---\n",
    "\n",
    "훈련된 모델을 사용해 검증셋이나 훈련셋에 대해 예측을 수행합니다."
   ]
  },
  {
   "cell_type": "code",
   "execution_count": 32,
   "metadata": {},
   "outputs": [],
   "source": [
    "vld_y_pred = model.predict(vld_x)"
   ]
  },
  {
   "cell_type": "code",
   "execution_count": 33,
   "metadata": {},
   "outputs": [
    {
     "data": {
      "text/plain": [
       "array([[16292160., 15619740., 15894180., ..., 18296700., 12766560.,\n",
       "        13782480.],\n",
       "       [10731780.,  8740740., 11581140., ...,  6314760., 10105980.,\n",
       "         9104760.],\n",
       "       [12102720., 10867200., 14062980., ...,  9041940., 13446240.,\n",
       "        12988680.],\n",
       "       ...,\n",
       "       [21584520., 22213500., 19173360., ..., 19532700., 15209820.,\n",
       "        21627180.],\n",
       "       [25826220., 24367800., 24537300., ..., 24655860., 25128180.,\n",
       "        24945780.],\n",
       "       [ 8201400.,  7596720., 10871160., ...,  6632940., 11584860.,\n",
       "         7293420.]])"
      ]
     },
     "execution_count": 33,
     "metadata": {},
     "output_type": "execute_result"
    }
   ],
   "source": [
    "vld_y_pred"
   ]
  },
  {
   "cell_type": "code",
   "execution_count": 34,
   "metadata": {},
   "outputs": [],
   "source": [
    "test_y_pred = model.predict(test_x_all)"
   ]
  },
  {
   "cell_type": "code",
   "execution_count": 35,
   "metadata": {},
   "outputs": [
    {
     "data": {
      "text/plain": [
       "array([[14324280., 14011800., 14125980., ..., 13092060., 12791580.,\n",
       "        12682560.],\n",
       "       [15415380., 13178400., 14202240., ...,  9059580., 11023860.,\n",
       "         7527540.],\n",
       "       [12616020., 10372320., 12653340., ...,  6031800., 10177200.,\n",
       "         5932980.],\n",
       "       ...,\n",
       "       [12544740., 12775620., 13280280., ..., 12890700., 12039660.,\n",
       "        11966100.],\n",
       "       [21646560., 19006500., 21477900., ..., 19573140., 23171220.,\n",
       "        18172620.],\n",
       "       [14386860., 14365380., 14072940., ..., 13931940., 11235360.,\n",
       "        13354980.]])"
      ]
     },
     "execution_count": 35,
     "metadata": {},
     "output_type": "execute_result"
    }
   ],
   "source": [
    "test_y_pred"
   ]
  }
 ],
 "metadata": {
  "kernelspec": {
   "display_name": "conda_python3",
   "language": "python",
   "name": "conda_python3"
  },
  "language_info": {
   "codemirror_mode": {
    "name": "ipython",
    "version": 3
   },
   "file_extension": ".py",
   "mimetype": "text/x-python",
   "name": "python",
   "nbconvert_exporter": "python",
   "pygments_lexer": "ipython3",
   "version": "3.6.10"
  }
 },
 "nbformat": 4,
 "nbformat_minor": 2
}
